{
 "cells": [
  {
   "cell_type": "code",
   "execution_count": 1,
   "metadata": {},
   "outputs": [
    {
     "name": "stderr",
     "output_type": "stream",
     "text": [
      "Intel(R) Extension for Scikit-learn* enabled (https://github.com/intel/scikit-learn-intelex)\n"
     ]
    }
   ],
   "source": [
    "from sklearnex import patch_sklearn\n",
    "patch_sklearn()"
   ]
  },
  {
   "cell_type": "code",
   "execution_count": 2,
   "metadata": {},
   "outputs": [],
   "source": [
    "from imblearn.pipeline import Pipeline\n",
    "\n",
    "from skopt.space import Integer, Categorical, Real\n",
    "from numpy import logspace\n",
    "from imblearn.over_sampling import ADASYN\n",
    "from sklearn.preprocessing import StandardScaler\n",
    "from sklearn.decomposition import PCA\n",
    "\n",
    "from sklearn.tree import DecisionTreeClassifier\n",
    "from sklearn.neighbors import KNeighborsClassifier\n",
    "from sklearn.svm import SVC"
   ]
  },
  {
   "cell_type": "code",
   "execution_count": 5,
   "metadata": {},
   "outputs": [],
   "source": [
    "dt_pipe = Pipeline([\n",
    "    ('scaler', StandardScaler()),\n",
    "    ('classifier', DecisionTreeClassifier())\n",
    "])\n",
    "dt_ada_pipe = Pipeline([\n",
    "    ('sampling', ADASYN()),\n",
    "    ('scaler', StandardScaler()),\n",
    "    ('classifier', DecisionTreeClassifier())\n",
    "])\n",
    "dt_param_grid = {\n",
    "    'classifier__max_depth': Integer( 4, 8 ),\n",
    "    'classifier__criterion': Categorical( [ 'gini', 'entropy' ] )\n",
    "}\n",
    "\n",
    "knn_pipe = Pipeline([\n",
    "    ('scaler', StandardScaler()),\n",
    "    ('pca', PCA(0.85)),\n",
    "    ('classifier', KNeighborsClassifier())\n",
    "])\n",
    "knn_ada_pipe = Pipeline([\n",
    "    ('sampling', ADASYN()),\n",
    "    ('scaler', StandardScaler()),\n",
    "    ('pca', PCA(0.85)),\n",
    "    ('classifier', KNeighborsClassifier())\n",
    "])\n",
    "knn_param_grid = {\n",
    "    'classifier__n_neighbors': Integer( 1, 400 ),\n",
    "    'classifier__weights': Categorical( [ 'uniform', 'distance' ] )\n",
    "}\n",
    "\n",
    "svm_pipe = Pipeline([\n",
    "    ('scaler', StandardScaler()),\n",
    "    ('pca', PCA(0.85)),\n",
    "    ('classifier', SVC( kernel = 'rbf'))\n",
    "])\n",
    "svm_ada_pipe = Pipeline([\n",
    "    ('sampling', ADASYN()),\n",
    "    ('scaler', StandardScaler()),\n",
    "    ('pca', PCA(0.85)),\n",
    "    ('classifier', SVC( kernel = 'rbf'))\n",
    "])\n",
    "svm_param_grid = {\n",
    "    'classifier__C': Real( 0.001, 100, prior = \"log-uniform\" ),\n",
    "    'classifier__gamma': Real( 0.001, 100, prior = \"log-uniform\" )\n",
    "}\n"
   ]
  },
  {
   "cell_type": "code",
   "execution_count": 7,
   "metadata": {},
   "outputs": [],
   "source": [
    "from pickle import dump\n",
    "\n",
    "with open( 'models/svm.pkl', 'wb' ) as f:\n",
    "    dump( ( svm_pipe, svm_param_grid ), f )\n",
    "with open( 'models/svm_ada.pkl', 'wb' ) as f:\n",
    "    dump( ( svm_ada_pipe, svm_param_grid ), f )"
   ]
  },
  {
   "cell_type": "code",
   "execution_count": 19,
   "metadata": {},
   "outputs": [],
   "source": [
    "from pickle import load\n",
    "\n",
    "with open('data.pkl','rb') as file:\n",
    "    X_train, y_train = load( file )\n",
    "    X_test, y1_test = load( file )"
   ]
  }
 ],
 "metadata": {
  "kernelspec": {
   "display_name": "base",
   "language": "python",
   "name": "python3"
  },
  "language_info": {
   "codemirror_mode": {
    "name": "ipython",
    "version": 3
   },
   "file_extension": ".py",
   "mimetype": "text/x-python",
   "name": "python",
   "nbconvert_exporter": "python",
   "pygments_lexer": "ipython3",
   "version": "3.12.2"
  }
 },
 "nbformat": 4,
 "nbformat_minor": 2
}
